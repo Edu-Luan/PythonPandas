{
  "nbformat": 4,
  "nbformat_minor": 0,
  "metadata": {
    "colab": {
      "name": "DatalensDefinitivo.py",
      "provenance": [],
      "collapsed_sections": [],
      "authorship_tag": "ABX9TyOPY6vf4YsiFXM908cFYJXq",
      "include_colab_link": true
    },
    "kernelspec": {
      "name": "python3",
      "display_name": "Python 3"
    },
    "language_info": {
      "name": "python"
    }
  },
  "cells": [
    {
      "cell_type": "markdown",
      "metadata": {
        "id": "view-in-github",
        "colab_type": "text"
      },
      "source": [
        "<a href=\"https://colab.research.google.com/github/Edu-Luan/PythonPandas/blob/main/DatalensDefinitivo_py.ipynb\" target=\"_parent\"><img src=\"https://colab.research.google.com/assets/colab-badge.svg\" alt=\"Open In Colab\"/></a>"
      ]
    },
    {
      "cell_type": "code",
      "execution_count": null,
      "metadata": {
        "id": "3XttHOT-HwiI"
      },
      "outputs": [],
      "source": [
        "#Importando as bibliotecas\n",
        "import numpy as np \n",
        "import pandas as pd\n",
        "from matplotlib import pyplot as plt"
      ]
    },
    {
      "cell_type": "code",
      "source": [
        "#Passando df0 para ler o arquivo relacionado a cartões\n",
        "df0 = pd.read_csv ('/content/campeonato-brasileiro-cartoes.csv' , delimiter= ',')\n",
        "df0"
      ],
      "metadata": {
        "id": "Cqp3NW8OIFmS"
      },
      "execution_count": null,
      "outputs": []
    },
    {
      "cell_type": "code",
      "source": [
        "#Identificando as colunas do arquivo 'cartoes.csv'\n",
        "df0.columns"
      ],
      "metadata": {
        "id": "6Y-JDfd9Rgte"
      },
      "execution_count": null,
      "outputs": []
    },
    {
      "cell_type": "code",
      "source": [
        "#Junta os cartões por cada time\n",
        "tabela_cartao = df0.groupby('clube')['cartao'].value_counts()\n",
        "tabela_cartao"
      ],
      "metadata": {
        "id": "PDgEAodtKpDa"
      },
      "execution_count": null,
      "outputs": []
    },
    {
      "cell_type": "code",
      "source": [
        "#Cria a tabela mostrando os cartões por time\n",
        "tabela_cartao.to_frame()"
      ],
      "metadata": {
        "id": "pg-E2g9o9l8H"
      },
      "execution_count": null,
      "outputs": []
    },
    {
      "cell_type": "code",
      "source": [
        "#Informando cartões por time\n",
        "print(df0.groupby('clube')['cartao'].value_counts().unstack().to_markdown())"
      ],
      "metadata": {
        "id": "JWpaUnzFLLRd"
      },
      "execution_count": null,
      "outputs": []
    },
    {
      "cell_type": "code",
      "source": [
        "#gráfico que exibe a quantidade de cartões de cada clube\n",
        "plt.figure(figsize=(10 , 6))\n",
        "df0['clube'].value_counts().plot(kind='bar')"
      ],
      "metadata": {
        "id": "P1fmAHdZDsxy"
      },
      "execution_count": null,
      "outputs": []
    },
    {
      "cell_type": "markdown",
      "source": [
        "IRÁ LER E ANALISAR DADOS DO CAMPEONATO BRASILEIRO FULL\n",
        "\n"
      ],
      "metadata": {
        "id": "lrBb4ROj0kfS"
      }
    },
    {
      "cell_type": "code",
      "source": [
        "#Ler o arquivo 'campeonato-brasileiro-full.csv'\n",
        "df1 = pd.read_csv ('/content/campeonato-brasileiro-full.csv')\n",
        "df1.head()\n"
      ],
      "metadata": {
        "id": "Q40-9I5VJkv8"
      },
      "execution_count": null,
      "outputs": []
    },
    {
      "cell_type": "code",
      "source": [
        "#Exibe as colunas do df1\n",
        "df1.columns"
      ],
      "metadata": {
        "id": "_nI0GhkFB73f"
      },
      "execution_count": null,
      "outputs": []
    },
    {
      "cell_type": "code",
      "source": [
        "#Fazendo o cálculo de diferença de gols e criando a tabela 'Goleada de mandante'\n",
        "df1 ['Goleada_de'] = df1['mandante_placar'].map(str) + \"x\" + df1 ['visitante_placar'].map(str)\n",
        "\n",
        "# Mostra as 10 vezes em que o time mandante fez mais gols \n",
        "df1.sort_values('mandante_placar', ascending=False) [['mandante_placar' , 'mandante' ,'visitante_placar' , 'visitante' , 'Goleada_de']].head(10)"
      ],
      "metadata": {
        "id": "Zxp6KB_tcpDZ"
      },
      "execution_count": null,
      "outputs": []
    },
    {
      "cell_type": "code",
      "source": [
        "#Exibe os gols dos times mandantes\n",
        "df1_mandante = df1.groupby(['mandante'])['mandante_placar'].sum()\n",
        "df1_mandante"
      ],
      "metadata": {
        "id": "TpvzPw5QE8HS"
      },
      "execution_count": null,
      "outputs": []
    },
    {
      "cell_type": "code",
      "source": [
        "#Exibe os gols dos times visitantes\n",
        "df1_visitante = df1.groupby(['visitante'])['visitante_placar'].sum()\n",
        "df1_visitante"
      ],
      "metadata": {
        "id": "_bJY0eMNE5S1"
      },
      "execution_count": null,
      "outputs": []
    },
    {
      "cell_type": "code",
      "source": [
        "#Tabela de total de gols\n",
        "df1_result = pd.concat([df1_mandante , df1_visitante] , axis=1)\n",
        "df1_result['Total'] = df1_result['mandante_placar']+ df1_result['visitante_placar']\n",
        "df1_result"
      ],
      "metadata": {
        "id": "rh1FHcyic5Ev"
      },
      "execution_count": null,
      "outputs": []
    },
    {
      "cell_type": "code",
      "source": [
        "#Mostra o percentual de gols fora de casa\n",
        "df1_result['perc_fora_de_casa'] = df1_result['visitante_placar']/df1_result['Total'] \n",
        "df1_result"
      ],
      "metadata": {
        "id": "tLR_vZHNhHPh"
      },
      "execution_count": null,
      "outputs": []
    },
    {
      "cell_type": "code",
      "source": [
        "#Mostra o percentual de gols dentro de casa\n",
        "df1_result['perc_dentro_de_casa'] = 1 - df1_result['perc_fora_de_casa']\n",
        "df1_result"
      ],
      "metadata": {
        "id": "et7eeR_siIF4"
      },
      "execution_count": null,
      "outputs": []
    },
    {
      "cell_type": "code",
      "source": [
        "#Mostra os times que possuem o maior percentual de gols fora de casa (em ordem decrescente)\n",
        "df1_result_sort = df1_result.sort_values(['perc_fora_de_casa'] , ascending=False)\n",
        "df1_result_sort"
      ],
      "metadata": {
        "id": "xz-uRdj3jnBB"
      },
      "execution_count": null,
      "outputs": []
    },
    {
      "cell_type": "code",
      "source": [
        "#Tabela que apresenta a quantidade de gols somados como mandante e visitante\n",
        "df1.rename(columns={'mandante': 'clube'},inplace=True)\n",
        "df1_clubegols = df1.groupby(['clube'])['mandante_placar'].sum() ++ df1.groupby(['visitante'])['visitante_placar'].sum()\n",
        "df1_clubegols.to_frame()"
      ],
      "metadata": {
        "id": "3lWsYxWAaD7L"
      },
      "execution_count": null,
      "outputs": []
    },
    {
      "cell_type": "code",
      "source": [
        "#Gráfico que mostra os gols por ano editando o tamanho e o tipo de gráfico\n",
        "plt.figure(figsize=(10 , 10))\n",
        "df1_clubegols.plot(kind='bar')"
      ],
      "metadata": {
        "id": "Lv9-ZcZj59Vc"
      },
      "execution_count": null,
      "outputs": []
    },
    {
      "cell_type": "code",
      "source": [
        "#Fazendo a concatenação de mandante e visitando\n",
        "df1_clube  =  pd.concat([df1['clube'].str.lower(), df1['visitante'].str.lower()], axis=1, keys=['Clubes'])"
      ],
      "metadata": {
        "id": "EaeG5HLF1IMA"
      },
      "execution_count": null,
      "outputs": []
    },
    {
      "cell_type": "code",
      "source": [
        "#Criando uma variável que vai unificar os nomes repetidos gerando uma coluna com o nome \"Clubes\"\n",
        "cb  =  pd.Series(df1_clube['Clubes'].unique(), name=\"Clubes\")\n",
        "cb  =  cb.to_frame()\n",
        "cb"
      ],
      "metadata": {
        "id": "PA7b5m5LIj8Q"
      },
      "execution_count": null,
      "outputs": []
    },
    {
      "cell_type": "markdown",
      "source": [
        "IRÁ LER E ANALISAR DADOS DO CAMPEONATO BRASILEIRO GOLS\n"
      ],
      "metadata": {
        "id": "S6oas9_20wxA"
      }
    },
    {
      "cell_type": "code",
      "source": [
        "#Lê o arquivo de 'gols.csv'\n",
        "df2 = pd.read_csv ('/content/campeonato-brasileiro-gols.csv' , delimiter= ',')\n",
        "df2"
      ],
      "metadata": {
        "id": "KsjAHyl9DbCe"
      },
      "execution_count": null,
      "outputs": []
    },
    {
      "cell_type": "code",
      "source": [
        "#Exibe as colunas de 'gols.csv'\n",
        "df2.columns"
      ],
      "metadata": {
        "id": "i-D2hiw8D0Oc",
        "colab": {
          "base_uri": "https://localhost:8080/"
        },
        "outputId": "e8d3dcf2-de7b-4194-9b0f-4217230b9dc4"
      },
      "execution_count": null,
      "outputs": [
        {
          "output_type": "execute_result",
          "data": {
            "text/plain": [
              "Index(['partida_id', 'rodada', 'clube', 'atleta', 'minuto'], dtype='object')"
            ]
          },
          "metadata": {},
          "execution_count": 34
        }
      ]
    },
    {
      "cell_type": "code",
      "source": [
        "#Mostra as informações sobre os 5 gols mais rápidos que aconteceram\n",
        "mais_rapido = df2.groupby('minuto').min().head(5)\n",
        "mais_rapido"
      ],
      "metadata": {
        "id": "-a2QdDCtFKzN"
      },
      "execution_count": null,
      "outputs": []
    }
  ]
}